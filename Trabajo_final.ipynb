{
  "nbformat": 4,
  "nbformat_minor": 0,
  "metadata": {
    "colab": {
      "provenance": [],
      "authorship_tag": "ABX9TyO1VWyCbBah74cm6Zqa9mwO",
      "include_colab_link": true
    },
    "kernelspec": {
      "name": "python3",
      "display_name": "Python 3"
    },
    "language_info": {
      "name": "python"
    }
  },
  "cells": [
    {
      "cell_type": "markdown",
      "metadata": {
        "id": "view-in-github",
        "colab_type": "text"
      },
      "source": [
        "<a href=\"https://colab.research.google.com/github/emherraiz/Trabajo_Final/blob/main/Trabajo_final.ipynb\" target=\"_parent\"><img src=\"https://colab.research.google.com/assets/colab-badge.svg\" alt=\"Open In Colab\"/></a>"
      ]
    },
    {
      "cell_type": "code",
      "execution_count": 8,
      "metadata": {
        "id": "ufLmiMTEBSkr"
      },
      "outputs": [],
      "source": [
        "import dask.dataframe as dd\n",
        "import pandas as pd\n",
        "from jinja2 import Template"
      ]
    },
    {
      "cell_type": "markdown",
      "source": [
        "##  Cargaremos el conjunto de datos en un dataframe."
      ],
      "metadata": {
        "id": "ny0yDTNrDd5p"
      }
    },
    {
      "cell_type": "code",
      "source": [
        "# Especifica la ruta del archivo CSV\n",
        "archivo_csv = \"air_traffic_data.csv\"\n",
        "\n",
        "# Lee el archivo CSV en un dataframe de Dask\n",
        "datos_traf = dd.read_csv(archivo_csv)"
      ],
      "metadata": {
        "id": "JeM4mSPeBjG3"
      },
      "execution_count": 9,
      "outputs": []
    },
    {
      "cell_type": "code",
      "source": [
        "# Vamos a obtener informaión sobre la estructura de los datos:\n",
        "campos = datos_traf.columns\n",
        "tipos = datos_traf.dtypes\n",
        "\n",
        "# Cargar la plantilla desde un archivo o una cadena\n",
        "with open('plantilla_datos.html') as f:\n",
        "    plantilla = Template(f.read())\n"
      ],
      "metadata": {
        "id": "6zxr88OnCM_B"
      },
      "execution_count": 10,
      "outputs": []
    },
    {
      "cell_type": "code",
      "source": [
        "# Renderizar la plantilla con los datos\n",
        "datos = zip(campos, tipos)\n",
        "informe = plantilla.render(datos=datos)\n",
        "\n",
        "# Guardar el informe en un archivo como se nos pide en el primer ejercicio\n",
        "with open('informe.html', 'w') as f:\n",
        "    f.write(informe)\n",
        "\n",
        "# Leer el archivo HTML y extraer las tablas\n",
        "tablas = pd.read_html('informe.html')\n"
      ],
      "metadata": {
        "id": "aMKNHkEUCZfX"
      },
      "execution_count": 11,
      "outputs": []
    },
    {
      "cell_type": "markdown",
      "source": [
        "## ¿Con qué tipo de datos contamos?"
      ],
      "metadata": {
        "id": "nt7sXsZ4EA_s"
      }
    },
    {
      "cell_type": "code",
      "source": [
        "# Obtener la primera tabla (si hay varias tablas en el archivo HTML)\n",
        "tabla = tablas[0]\n",
        "\n",
        "# Imprimir el DataFrame de la tabla\n",
        "print(tabla)\n",
        "print('\\n\\nLos datos se han cargado correctamente, hemos guardado el informe en el archivo informe.html\\n\\n')\n",
        "\n",
        "# Análisis de los datos\n",
        "num_filas = len(datos_traf)  # Número de filas en el DataFrame\n",
        "num_columnas = len(datos_traf.columns)  # Número de columnas en el DataFrame\n",
        "columnas = datos_traf.columns.tolist()  # Lista de"
      ],
      "metadata": {
        "colab": {
          "base_uri": "https://localhost:8080/"
        },
        "id": "5Pexwa5-CgpO",
        "outputId": "89575414-84a2-40a1-8c81-9ec7ea3c84e1"
      },
      "execution_count": 12,
      "outputs": [
        {
          "output_type": "stream",
          "name": "stdout",
          "text": [
            "               Nombre del campo Tipo de dato\n",
            "0               Activity Period        int64\n",
            "1             Operating Airline       object\n",
            "2   Operating Airline IATA Code       object\n",
            "3             Published Airline       object\n",
            "4   Published Airline IATA Code       object\n",
            "5                   GEO Summary       object\n",
            "6                    GEO Region       object\n",
            "7            Activity Type Code       object\n",
            "8           Price Category Code       object\n",
            "9                      Terminal       object\n",
            "10                Boarding Area       object\n",
            "11              Passenger Count        int64\n",
            "12  Adjusted Activity Type Code       object\n",
            "13     Adjusted Passenger Count        int64\n",
            "14                         Year        int64\n",
            "15                        Month       object\n",
            "\n",
            "\n",
            "Los datos se han cargado correctamente, hemos guardado el informe en el archivo informe.html\n",
            "\n",
            "\n"
          ]
        }
      ]
    },
    {
      "cell_type": "markdown",
      "source": [
        "##  ¿Cuántas compañías diferentes aparecen en el fichero?"
      ],
      "metadata": {
        "id": "pFIoEb6BCqmL"
      }
    },
    {
      "cell_type": "code",
      "source": [
        "# Información sobre las columnas\n",
        "info_columnas = []\n",
        "for columna in columnas:\n",
        "    tipo_dato = datos_traf[columna].dtype  # Tipo de dato de la columna\n",
        "    valores_unicos = datos_traf[columna].nunique().compute()  # Número de valores únicos en la columna\n",
        "    info_columnas.append({'Nombre del campo': columna, 'Tipo de dato': tipo_dato, 'Valores únicos': valores_unicos})\n",
        "\n",
        "# Presentar los resultados\n",
        "for columna_info in info_columnas:\n",
        "    print(f\"Nombre del campo: {columna_info['Nombre del campo']}\")\n",
        "    print(f\"Tipo de dato: {columna_info['Tipo de dato']}\")\n",
        "    print(f\"Número de valores únicos: {columna_info['Valores únicos']}\")\n",
        "    print()"
      ],
      "metadata": {
        "colab": {
          "base_uri": "https://localhost:8080/"
        },
        "id": "10ZkOVTsCifd",
        "outputId": "5aa42cd8-424f-4bab-fbfa-1a685ade0f82"
      },
      "execution_count": 13,
      "outputs": [
        {
          "output_type": "stream",
          "name": "stdout",
          "text": [
            "Nombre del campo: Activity Period\n",
            "Tipo de dato: int64\n",
            "Número de valores únicos: 129\n",
            "\n",
            "Nombre del campo: Operating Airline\n",
            "Tipo de dato: object\n",
            "Número de valores únicos: 77\n",
            "\n",
            "Nombre del campo: Operating Airline IATA Code\n",
            "Tipo de dato: object\n",
            "Número de valores únicos: 73\n",
            "\n",
            "Nombre del campo: Published Airline\n",
            "Tipo de dato: object\n",
            "Número de valores únicos: 68\n",
            "\n",
            "Nombre del campo: Published Airline IATA Code\n",
            "Tipo de dato: object\n",
            "Número de valores únicos: 64\n",
            "\n",
            "Nombre del campo: GEO Summary\n",
            "Tipo de dato: object\n",
            "Número de valores únicos: 2\n",
            "\n",
            "Nombre del campo: GEO Region\n",
            "Tipo de dato: object\n",
            "Número de valores únicos: 9\n",
            "\n",
            "Nombre del campo: Activity Type Code\n",
            "Tipo de dato: object\n",
            "Número de valores únicos: 3\n",
            "\n",
            "Nombre del campo: Price Category Code\n",
            "Tipo de dato: object\n",
            "Número de valores únicos: 2\n",
            "\n",
            "Nombre del campo: Terminal\n",
            "Tipo de dato: object\n",
            "Número de valores únicos: 5\n",
            "\n",
            "Nombre del campo: Boarding Area\n",
            "Tipo de dato: object\n",
            "Número de valores únicos: 8\n",
            "\n",
            "Nombre del campo: Passenger Count\n",
            "Tipo de dato: int64\n",
            "Número de valores únicos: 11699\n",
            "\n",
            "Nombre del campo: Adjusted Activity Type Code\n",
            "Tipo de dato: object\n",
            "Número de valores únicos: 3\n",
            "\n",
            "Nombre del campo: Adjusted Passenger Count\n",
            "Tipo de dato: int64\n",
            "Número de valores únicos: 11702\n",
            "\n",
            "Nombre del campo: Year\n",
            "Tipo de dato: int64\n",
            "Número de valores únicos: 12\n",
            "\n",
            "Nombre del campo: Month\n",
            "Tipo de dato: object\n",
            "Número de valores únicos: 12\n",
            "\n"
          ]
        }
      ]
    },
    {
      "cell_type": "code",
      "source": [
        "# Obtener las compañías únicas de la columna \"Operating Airline\"\n",
        "companias_operating = datos_traf['Operating Airline'].nunique().compute()\n",
        "operadora = datos_traf['Operating Airline']\n",
        "\n",
        "# Obtener las compañías únicas de la columna \"Published Airline\"\n",
        "companias_published = datos_traf['Published Airline'].nunique().compute()\n",
        "publicada = datos_traf['Published Airline']\n",
        "\n",
        "# Imprimir los resultados\n",
        "print(f\"Número de compañías en la columna 'Operating Airline': {companias_operating}\")\n",
        "print(f\"Número de compañías en la columna 'Published Airline': {companias_published}\")\n"
      ],
      "metadata": {
        "colab": {
          "base_uri": "https://localhost:8080/"
        },
        "id": "SCkQGBa9CnoW",
        "outputId": "1334f424-c644-450c-9c59-79ed6e778c97"
      },
      "execution_count": 14,
      "outputs": [
        {
          "output_type": "stream",
          "name": "stdout",
          "text": [
            "Número de compañías en la columna 'Operating Airline': 77\n",
            "Número de compañías en la columna 'Published Airline': 68\n"
          ]
        }
      ]
    },
    {
      "cell_type": "code",
      "source": [
        "# Realizar un merge basado en las columnas \"Operating Airline\" y \"Published Airline\"\n",
        "merged_data = dd.merge(datos_traf[['Operating Airline']], datos_traf[['Published Airline']], left_index=True, right_index=True)\n",
        "\n",
        "# Filtrar los datos donde las columnas \"Operating Airline\" y \"Published Airline\" no coinciden\n",
        "mismatched_data = merged_data[merged_data['Operating Airline'] != merged_data['Published Airline']].compute()\n",
        "\n",
        "# Imprimir los datos que no coinciden\n",
        "print(\"\\nDatos que no coinciden entre 'Operating Airline' y 'Published Airline':\\n\")\n",
        "print(mismatched_data)\n",
        "print('\\nCon un total de', len(mismatched_data), 'datos que no coinciden')\n"
      ],
      "metadata": {
        "colab": {
          "base_uri": "https://localhost:8080/"
        },
        "id": "dNg-x29ZGTA4",
        "outputId": "2440721e-c193-4c94-ea86-9b051ab42de2"
      },
      "execution_count": 21,
      "outputs": [
        {
          "output_type": "stream",
          "name": "stdout",
          "text": [
            "\n",
            "Datos que no coinciden entre 'Operating Airline' y 'Published Airline':\n",
            "\n",
            "                 Operating Airline  Published Airline\n",
            "25         American Eagle Airlines  American Airlines\n",
            "26         American Eagle Airlines  American Airlines\n",
            "29     Atlantic Southeast Airlines    Delta Air Lines\n",
            "30     Atlantic Southeast Airlines    Delta Air Lines\n",
            "47                    Horizon Air     Alaska Airlines\n",
            "...                            ...                ...\n",
            "14958             SkyWest Airlines    United Airlines\n",
            "14959             SkyWest Airlines    United Airlines\n",
            "14960             SkyWest Airlines    United Airlines\n",
            "14961             SkyWest Airlines    United Airlines\n",
            "14962             SkyWest Airlines    United Airlines\n",
            "\n",
            "[1602 rows x 2 columns]\n",
            "\n",
            "Con un total de 1602 datos que no coinciden\n"
          ]
        }
      ]
    },
    {
      "cell_type": "code",
      "source": [
        "# Calcular el número medio de pasajeros por compañía en la columna \"Operating Airline\"\n",
        "pasajeros_por_compania = datos_traf.groupby('Operating Airline')['Passenger Count'].mean().compute()\n",
        "\n",
        "# Imprimir el número medio de pasajeros por compañía\n",
        "print(\"Número medio de pasajeros por compañía:\")\n",
        "print(pasajeros_por_compania)"
      ],
      "metadata": {
        "colab": {
          "base_uri": "https://localhost:8080/"
        },
        "id": "vW8bqvYMEYS1",
        "outputId": "e527fbb8-c06a-4848-b636-585c66e77c1e"
      },
      "execution_count": 16,
      "outputs": [
        {
          "output_type": "stream",
          "name": "stdout",
          "text": [
            "Número medio de pasajeros por compañía:\n",
            "Operating Airline\n",
            "ATA Airlines          8744.636364\n",
            "Aer Lingus            4407.183673\n",
            "Aeromexico            5463.822222\n",
            "Air Berlin            2320.750000\n",
            "Air Canada           18251.560109\n",
            "                         ...     \n",
            "Virgin Atlantic       9847.104651\n",
            "WestJet Airlines      5338.155340\n",
            "World Airways          261.666667\n",
            "XL Airways France     2223.161290\n",
            "Xtra Airways            73.000000\n",
            "Name: Passenger Count, Length: 77, dtype: float64\n"
          ]
        }
      ]
    },
    {
      "cell_type": "code",
      "source": [
        "# Ordenar el DataFrame por número de pasajeros en orden descendente dentro de cada grupo \"GEO Región\"\n",
        "df_sorted = datos_traf.sort_values('Passenger Count', ascending=False)\n",
        "\n",
        "# Eliminar los registros duplicados por \"GEO Región\" y mantener solo aquellos con el mayor número de pasajeros\n",
        "df_unique = df_sorted.drop_duplicates(subset='GEO Region', keep='first').compute()\n",
        "\n",
        "# Imprimir el DataFrame resultante\n",
        "print(\"Registros únicos por 'GEO Región' con mayor número de pasajeros:\")\n",
        "print(df_unique)"
      ],
      "metadata": {
        "colab": {
          "base_uri": "https://localhost:8080/"
        },
        "id": "FCUwFmbQEYVf",
        "outputId": "87fff01c-ebbb-451d-bf60-f7a04e8fcb64"
      },
      "execution_count": 18,
      "outputs": [
        {
          "output_type": "stream",
          "name": "stdout",
          "text": [
            "Registros únicos por 'GEO Región' con mayor número de pasajeros:\n",
            "       Activity Period                 Operating Airline  \\\n",
            "11331           201308                   United Airlines   \n",
            "2973            200708  United Airlines - Pre 07/01/2013   \n",
            "14008           201507                   United Airlines   \n",
            "2872            200708                       Air Canada    \n",
            "12590           201407                   United Airlines   \n",
            "13945           201507                         Emirates    \n",
            "13191           201501                   Air New Zealand   \n",
            "12903           201410                              TACA   \n",
            "7737            201101                          LAN Peru   \n",
            "\n",
            "      Operating Airline IATA Code                 Published Airline  \\\n",
            "11331                          UA                   United Airlines   \n",
            "2973                           UA  United Airlines - Pre 07/01/2013   \n",
            "14008                          UA                   United Airlines   \n",
            "2872                           AC                       Air Canada    \n",
            "12590                          UA                   United Airlines   \n",
            "13945                          EK                         Emirates    \n",
            "13191                          NZ                   Air New Zealand   \n",
            "12903                          TA                              TACA   \n",
            "7737                           LP                          LAN Peru   \n",
            "\n",
            "      Published Airline IATA Code    GEO Summary           GEO Region  \\\n",
            "11331                          UA       Domestic                   US   \n",
            "2973                           UA  International                 Asia   \n",
            "14008                          UA  International               Europe   \n",
            "2872                           AC  International               Canada   \n",
            "12590                          UA  International               Mexico   \n",
            "13945                          EK  International          Middle East   \n",
            "13191                          NZ  International  Australia / Oceania   \n",
            "12903                          TA  International      Central America   \n",
            "7737                           LP  International        South America   \n",
            "\n",
            "      Activity Type Code Price Category Code       Terminal Boarding Area  \\\n",
            "11331           Deplaned               Other     Terminal 3             F   \n",
            "2973            Deplaned               Other  International             G   \n",
            "14008           Deplaned               Other  International             G   \n",
            "2872            Deplaned               Other     Terminal 3             E   \n",
            "12590           Deplaned               Other  International             G   \n",
            "13945           Deplaned               Other  International             A   \n",
            "13191           Enplaned               Other  International             G   \n",
            "12903           Deplaned               Other  International             A   \n",
            "7737            Deplaned               Other  International             A   \n",
            "\n",
            "       Passenger Count Adjusted Activity Type Code  Adjusted Passenger Count  \\\n",
            "11331           659837                    Deplaned                    659837   \n",
            "2973             86398                    Deplaned                     86398   \n",
            "14008            48136                    Deplaned                     48136   \n",
            "2872             39798                    Deplaned                     39798   \n",
            "12590            29206                    Deplaned                     29206   \n",
            "13945            14769                    Deplaned                     14769   \n",
            "13191            12973                    Enplaned                     12973   \n",
            "12903             8970                    Deplaned                      8970   \n",
            "7737              3685                    Deplaned                      3685   \n",
            "\n",
            "       Year    Month  \n",
            "11331  2013   August  \n",
            "2973   2007   August  \n",
            "14008  2015     July  \n",
            "2872   2007   August  \n",
            "12590  2014     July  \n",
            "13945  2015     July  \n",
            "13191  2015  January  \n",
            "12903  2014  October  \n",
            "7737   2011  January  \n"
          ]
        }
      ]
    },
    {
      "cell_type": "code",
      "source": [
        "# Guardar los resultados en un archivo CSV\n",
        "pasajeros_por_compania.to_csv('ruta_del_archivo_pasajeros_por_compania.csv', header=True, index=False)\n",
        "df_unique.to_csv('ruta_del_archivo_regiones_unicas.csv', header=True, index=False)"
      ],
      "metadata": {
        "id": "7KasvQEaEYYP"
      },
      "execution_count": 19,
      "outputs": []
    },
    {
      "cell_type": "code",
      "source": [
        "# Calcular la media de cada columna\n",
        "media = datos_traf.mean().compute()\n",
        "\n",
        "# Calcular la desviación estándar de cada columna\n",
        "desviacion_estandar = datos_traf.std().compute()\n",
        "\n",
        "# Imprimir los resultados obtenidos\n",
        "print(\"Media de cada elemento del conjunto de datos:\")\n",
        "print(media)\n",
        "\n",
        "print(\"\\nDesviación estándar de cada elemento del conjunto de datos:\")\n",
        "print(desviacion_estandar)"
      ],
      "metadata": {
        "colab": {
          "base_uri": "https://localhost:8080/"
        },
        "id": "o8kt7R1vEYbF",
        "outputId": "dceb74bb-a048-4466-e274-2c41fcee7c3f"
      },
      "execution_count": 20,
      "outputs": [
        {
          "output_type": "stream",
          "name": "stdout",
          "text": [
            "Media de cada elemento del conjunto de datos:\n",
            "Activity Period             201045.073366\n",
            "Passenger Count              29240.521090\n",
            "Adjusted Passenger Count     29331.917105\n",
            "Year                          2010.385220\n",
            "dtype: float64\n",
            "\n",
            "Desviación estándar de cada elemento del conjunto de datos:\n",
            "Activity Period               313.336196\n",
            "Passenger Count             58319.509284\n",
            "Adjusted Passenger Count    58284.182219\n",
            "Year                            3.137589\n",
            "dtype: float64\n"
          ]
        }
      ]
    },
    {
      "cell_type": "code",
      "source": [],
      "metadata": {
        "id": "gYkI34HkEYdk"
      },
      "execution_count": null,
      "outputs": []
    },
    {
      "cell_type": "code",
      "source": [],
      "metadata": {
        "id": "_rE5URCUEYgR"
      },
      "execution_count": null,
      "outputs": []
    },
    {
      "cell_type": "code",
      "source": [],
      "metadata": {
        "id": "-5YvuN-iEYit"
      },
      "execution_count": null,
      "outputs": []
    },
    {
      "cell_type": "code",
      "source": [],
      "metadata": {
        "id": "26ziWHr1EYlM"
      },
      "execution_count": null,
      "outputs": []
    },
    {
      "cell_type": "code",
      "source": [],
      "metadata": {
        "id": "BhPO2E7lEYnx"
      },
      "execution_count": null,
      "outputs": []
    },
    {
      "cell_type": "code",
      "source": [],
      "metadata": {
        "id": "LHTGFLfBEYqR"
      },
      "execution_count": null,
      "outputs": []
    },
    {
      "cell_type": "code",
      "source": [],
      "metadata": {
        "id": "R28TVKzzEYs9"
      },
      "execution_count": null,
      "outputs": []
    },
    {
      "cell_type": "code",
      "source": [],
      "metadata": {
        "id": "yXrGwse_EYvi"
      },
      "execution_count": null,
      "outputs": []
    },
    {
      "cell_type": "code",
      "source": [],
      "metadata": {
        "id": "qe-DLxBUEYyJ"
      },
      "execution_count": null,
      "outputs": []
    },
    {
      "cell_type": "code",
      "source": [],
      "metadata": {
        "id": "KyYIxHJREY1p"
      },
      "execution_count": null,
      "outputs": []
    }
  ]
}